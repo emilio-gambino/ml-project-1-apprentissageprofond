{
 "cells": [
  {
   "cell_type": "code",
   "execution_count": 152,
   "id": "0e036489",
   "metadata": {
    "pycharm": {
     "name": "#%%\n"
    }
   },
   "outputs": [
    {
     "name": "stdout",
     "output_type": "stream",
     "text": [
      "The autoreload extension is already loaded. To reload it, use:\n",
      "  %reload_ext autoreload\n"
     ]
    }
   ],
   "source": [
    "%matplotlib inline\n",
    "import numpy as np\n",
    "import pandas as pd\n",
    "import matplotlib.pyplot as plt\n",
    "from helpers import *\n",
    "from implementations import *\n",
    "%load_ext autoreload\n",
    "%autoreload 2"
   ]
  },
  {
   "cell_type": "code",
   "execution_count": 153,
   "id": "054047ba",
   "metadata": {
    "pycharm": {
     "name": "#%%\n"
    }
   },
   "outputs": [],
   "source": [
    "import csv\n",
    "\n",
    "\n",
    "def load_data():\n",
    "    # Opening files\n",
    "    with open(\"resources/train.csv\", newline=\"\") as csvfile:\n",
    "        train_data = np.array(list(csv.reader(csvfile)))\n",
    "    with open(\"resources/test.csv\", newline=\"\") as csvfile:\n",
    "        test_data = np.array(list(csv.reader(csvfile)))\n",
    "    return train_data, test_data"
   ]
  },
  {
   "cell_type": "code",
   "execution_count": 154,
   "id": "bcbac516",
   "metadata": {
    "pycharm": {
     "name": "#%%\n"
    }
   },
   "outputs": [
    {
     "name": "stdout",
     "output_type": "stream",
     "text": [
      "Finished loading data\n"
     ]
    }
   ],
   "source": [
    "train_data, test_data = load_data()\n",
    "print(\"Finished loading data\")"
   ]
  },
  {
   "cell_type": "code",
   "execution_count": 155,
   "id": "ba68e91c",
   "metadata": {
    "pycharm": {
     "name": "#%%\n"
    }
   },
   "outputs": [],
   "source": [
    "def data_preprocessing(data):\n",
    "    # Labels and removing headers\n",
    "    ids = data[1:, 0]\n",
    "    labels = data[1:, 1]\n",
    "    signal = np.array(data[1:, 2:], dtype=float)\n",
    "    signal = np.c_[signal, ids]\n",
    "    signal = np.array(signal, dtype=float)\n",
    "    labels = np.array(\n",
    "        list(map(lambda x: 0 if x == \"s\" else 1, labels))\n",
    "    )\n",
    "\n",
    "    # Separate data into 4 samples based on PRI_jet_num values (col 22)\n",
    "    sets = [[] for i in range(4)]\n",
    "    set_labels = [[] for i in range(4)]\n",
    "    for i in range(4):\n",
    "        sets[i] = signal[signal[:, 22] == i]\n",
    "        set_labels[i] = labels[signal[:, 22] == i]\n",
    "        l = len(sets[i])\n",
    "\n",
    "        # Remove features which are entirely -999 or with an unique value in the column\n",
    "        noisy_feats = []\n",
    "        for col in range(signal.shape[1]):\n",
    "            proportion = np.count_nonzero(sets[i][:, col] == -999) / l\n",
    "            deviation = np.std(sets[i][:, col])\n",
    "            if proportion == 1 or deviation == 0:\n",
    "                noisy_feats += [col]\n",
    "        sets[i] = np.delete(sets[i], noisy_feats, axis=1)\n",
    "\n",
    "    # Set remaining -999 values to 0\n",
    "    for i in range(4):\n",
    "        m = np.median(sets[i][sets[i] != -999])\n",
    "        sets[i][sets[i] == -999] = m\n",
    "\n",
    "    id_sets = [x[:, -1] for x in sets]\n",
    "    for i in range(len(sets)):\n",
    "        sets[i] = np.delete(sets[i], -1, 1)\n",
    "\n",
    "    # Standardizing data\n",
    "    sets = [standardize(s) for s in sets]\n",
    "    return sets, set_labels, id_sets\n"
   ]
  },
  {
   "cell_type": "code",
   "execution_count": 156,
   "id": "63221e57",
   "metadata": {
    "pycharm": {
     "name": "#%%\n"
    }
   },
   "outputs": [
    {
     "name": "stdout",
     "output_type": "stream",
     "text": [
      "Finished preprocessing\n"
     ]
    }
   ],
   "source": [
    "training_sets, training_labels, _ = data_preprocessing(train_data)\n",
    "test_sets, test_labels, test_ids = data_preprocessing(test_data)\n",
    "\n",
    "print(\"Finished preprocessing\")"
   ]
  },
  {
   "cell_type": "code",
   "execution_count": 159,
   "id": "a7081578",
   "metadata": {
    "pycharm": {
     "name": "#%%\n"
    }
   },
   "outputs": [
    {
     "name": "stdout",
     "output_type": "stream",
     "text": [
      "For jet value : 0\n",
      "For polynomial expansion up to degree 5, best degree : 5, best lambda : 0.01724, accuracy : 0.832272\n",
      "For jet value : 1\n",
      "For polynomial expansion up to degree 5, best degree : 5, best lambda : 0.01724, accuracy : 0.776720\n",
      "For jet value : 2\n",
      "For polynomial expansion up to degree 5, best degree : 5, best lambda : 0.01724, accuracy : 0.798356\n",
      "For jet value : 3\n",
      "For polynomial expansion up to degree 5, best degree : 5, best lambda : 0.01724, accuracy : 0.789839\n"
     ]
    }
   ],
   "source": [
    "seed = 4\n",
    "max_degree = 5\n",
    "k_fold_sets = 4\n",
    "\n",
    "ws = []\n",
    "degrees = []\n",
    "\n",
    "# Train and cross validate\n",
    "for i in range(4):\n",
    "    print(\"For jet value : %d\" % i)\n",
    "    deg, _, _, w = cross_validation(ridge_regression, training_labels[i], training_sets[i], k_fold_sets,\n",
    "                                 max_degree + 1, seed, np.linspace(0.0, 0.5, num=30)[1:])\n",
    "    ws.append(w)\n",
    "    degrees.append(deg)"
   ]
  },
  {
   "cell_type": "code",
   "execution_count": 81,
   "id": "e43a7de0",
   "metadata": {
    "pycharm": {
     "name": "#%%\n"
    }
   },
   "outputs": [
    {
     "name": "stdout",
     "output_type": "stream",
     "text": [
      "For jet value : 0, produced accuracy of : 0.840111\n",
      "For jet value : 1, produced accuracy of : 0.791680\n",
      "For jet value : 2, produced accuracy of : 0.826594\n",
      "For jet value : 3, produced accuracy of : 0.821783\n"
     ]
    }
   ],
   "source": [
    "lambdas = [0.008, 0.017, 0.008, 0.008]  # Obtained with cross validation\n",
    "degrees = [8, 8, 9, 9]\n",
    "ws = []\n",
    "\n",
    "for i in range(4):\n",
    "    X_expanded = polynomial_expansion(training_sets[i], degrees[i])\n",
    "    w, _ = ridge_regression(training_labels[i], X_expanded, lambdas[i])\n",
    "    accuracy = accuracy_score(training_labels[i], X_expanded, w)\n",
    "    ws.append(w)\n",
    "    print(\"For jet value : %d, produced accuracy of : %f\" % (i, accuracy))\n"
   ]
  },
  {
   "cell_type": "code",
   "execution_count": null,
   "id": "22ab4110",
   "metadata": {},
   "outputs": [],
   "source": []
  }
 ],
 "metadata": {
  "kernelspec": {
   "display_name": "Python 3 (ipykernel)",
   "language": "python",
   "name": "python3"
  },
  "language_info": {
   "codemirror_mode": {
    "name": "ipython",
    "version": 3
   },
   "file_extension": ".py",
   "mimetype": "text/x-python",
   "name": "python",
   "nbconvert_exporter": "python",
   "pygments_lexer": "ipython3",
   "version": "3.10.7"
  }
 },
 "nbformat": 4,
 "nbformat_minor": 5
}
